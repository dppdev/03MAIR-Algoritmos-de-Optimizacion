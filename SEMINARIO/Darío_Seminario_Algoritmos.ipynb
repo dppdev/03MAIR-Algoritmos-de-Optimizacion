{
  "nbformat": 4,
  "nbformat_minor": 0,
  "metadata": {
    "colab": {
      "name": "Darío_Seminario_Algoritmos.ipynb",
      "provenance": [],
      "collapsed_sections": [],
      "include_colab_link": true
    },
    "kernelspec": {
      "name": "python3",
      "display_name": "Python 3"
    }
  },
  "cells": [
    {
      "cell_type": "markdown",
      "metadata": {
        "id": "view-in-github",
        "colab_type": "text"
      },
      "source": [
        "<a href=\"https://colab.research.google.com/github/dppdev/03MAIR-Algoritmos-de-Optimizacion/blob/main/SEMINARIO/Dar%C3%ADo_Seminario_Algoritmos.ipynb\" target=\"_parent\"><img src=\"https://colab.research.google.com/assets/colab-badge.svg\" alt=\"Open In Colab\"/></a>"
      ]
    },
    {
      "cell_type": "markdown",
      "metadata": {
        "id": "hVbXYX-RfPWh"
      },
      "source": [
        "# Algoritmos de optimización - Seminario<br>\n",
        "Nombre y Apellidos: Darío Pérez Puchalt  <br>\n",
        "Url: https://github.com/dppdev/03MAIR-Algoritmos-de-Optimizacion/tree/main/SEMINARIO<br>\n",
        "Drive: https://colab.research.google.com/drive/1S47KgdVX-mo_1SLRB6_RJnn19oOKNqRk?usp=sharing <br>\n",
        "Problema: <b>3</b>\n",
        "\n",
        ">3. Combinar cifras y operaciones\n",
        "\n",
        "Descripción del problema:(copiar enunciado)\n",
        "\n",
        "• El problema consiste en analizar el siguiente problema y diseñar un algoritmo que lo resuelva.<br>\n",
        "• Disponemos de las 9 cifras del 1 al 9 (excluimos el cero) y de los 4 signos básicos de las operaciones fundamentales: suma(+), resta(-), multiplicación(x) y división(/) <br>\n",
        "• Debemos combinarlos alternativamente sin repetir ninguno de ellos para obtener una cantidad dada. Un ejemplo sería para obtener el 4:<br>\n",
        "4+2-6/3*1 = 4\n",
        "\n",
        "(*) La respuesta es obligatoria\n",
        "\n",
        "\n",
        "\n",
        "\n",
        "\n",
        "                                        "
      ]
    },
    {
      "cell_type": "markdown",
      "metadata": {
        "id": "3_-exlrTgLd-"
      },
      "source": [
        "<b>(*)¿Cuantas posibilidades hay sin tener en cuenta las restricciones?<br>\n",
        "\n",
        "\n",
        "\n",
        "¿Cuantas posibilidades hay teniendo en cuenta todas las restricciones.</b>\n",
        "\n",
        "\n"
      ]
    },
    {
      "cell_type": "markdown",
      "metadata": {
        "id": "WfCUqJyKhPcw"
      },
      "source": [
        "Respuesta"
      ]
    },
    {
      "cell_type": "markdown",
      "metadata": {
        "id": "84Oglg2wNIie"
      },
      "source": [
        "Si no tuvieramos en cuenta la restriccion:\r\n",
        "- El numero de posibilidades serían de: (9^5)x(4^4) = $15116544$ soluciones posibles."
      ]
    },
    {
      "cell_type": "code",
      "metadata": {
        "colab": {
          "base_uri": "https://localhost:8080/"
        },
        "id": "TMMqVlOLNJ3p",
        "outputId": "cfcdecf0-c9cc-4b20-fea8-3fd3efc5a7b4"
      },
      "source": [
        "probSR = (9**5)*(4**4) \r\n",
        "print('La probabilidad sin tener en cuenta las restricciones será de: ',probSR)"
      ],
      "execution_count": null,
      "outputs": [
        {
          "output_type": "stream",
          "text": [
            "La probabilidad sin tener en cuenta las restricciones será de:  15116544\n"
          ],
          "name": "stdout"
        }
      ]
    },
    {
      "cell_type": "markdown",
      "metadata": {
        "id": "wtrchkPVM83-"
      },
      "source": [
        "Teniendo en cuenta las restricciones :\r\n",
        "- Las posibilidades serían de: 9x8x7x6x5 x 4! = 9! = $362880$ soluciones posibles."
      ]
    },
    {
      "cell_type": "code",
      "metadata": {
        "id": "iq6Fe32MgpDX",
        "colab": {
          "base_uri": "https://localhost:8080/"
        },
        "outputId": "c7d1d15a-f30e-4c4f-c253-de2a5bf8a6bb"
      },
      "source": [
        "probCR = (9*8*7*6*5)* 4*3*2*1\r\n",
        "print('La probabilidad teniendo en cuenta las restricciones será de:',probCR)"
      ],
      "execution_count": null,
      "outputs": [
        {
          "output_type": "stream",
          "text": [
            "La probabilidad teniendo en cuenta las restricciones será de: 362880\n"
          ],
          "name": "stdout"
        }
      ]
    },
    {
      "cell_type": "markdown",
      "metadata": {
        "id": "dzynfVJahHoY"
      },
      "source": [
        "<b>Modelo para el espacio de soluciones<br>\n",
        "(*) ¿Cual es la estructura de datos que mejor se adapta al problema? Argumentalo.(Es posible que hayas elegido una al principio y veas la necesidad de cambiar, arguentalo)</b>\n"
      ]
    },
    {
      "cell_type": "markdown",
      "metadata": {
        "id": "xFIJrOwKi2Ti"
      },
      "source": [
        "Respuesta"
      ]
    },
    {
      "cell_type": "markdown",
      "metadata": {
        "id": "fPHcnNvifI5n"
      },
      "source": [
        "En un principio había elegido diccionarios para trabajar, pero al final elegí trabajar con arrays por simplicidad a la hora de trabajarlo. Como se puede observar en la siguiente imagen:"
      ]
    },
    {
      "cell_type": "markdown",
      "metadata": {
        "id": "xZ88fxFoNb8w"
      },
      "source": [
        "![image.png](data:image/png;base64,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)"
      ]
    },
    {
      "cell_type": "markdown",
      "metadata": {
        "id": "7Z9U2W7bi-XS"
      },
      "source": [
        "<b>Según el modelo para el espacio de soluciones<br>\n",
        "(*)¿Cual es la función objetivo?\n",
        "\n",
        "(*)¿Es un problema de maximización o minimización?</b>"
      ]
    },
    {
      "cell_type": "markdown",
      "metadata": {
        "id": "hBalWLM7j1_d"
      },
      "source": [
        "Respuesta"
      ]
    },
    {
      "cell_type": "markdown",
      "metadata": {
        "id": "GA7C9G-xzMpn"
      },
      "source": [
        "La funciónn objetivo es:"
      ]
    },
    {
      "cell_type": "code",
      "metadata": {
        "id": "MX5uFuSqmmmL"
      },
      "source": [
        "mathsD = eval(str(numsMD[0]) + str(opD[0]) + str(numsMD[1]) + str(opD[1]) + str(numsMD[2])+ str(opD[2]) + str(numsMD[3]) + str(opD[3]) + str(numsMD[4]))"
      ],
      "execution_count": null,
      "outputs": []
    },
    {
      "cell_type": "markdown",
      "metadata": {
        "id": "1YrZ-FuPmzML"
      },
      "source": [
        "Donde numsMD será donde se almacenen todos los numeros aleatoriamente y opD donde se almacenen todos los signos de forma aleatoria."
      ]
    },
    {
      "cell_type": "markdown",
      "metadata": {
        "id": "INZT5Vwzzrdv"
      },
      "source": [
        "Es un problema de:\r\n",
        "- El problema no es ni de maximizacion ni de minimización, es un problema de busqueda."
      ]
    },
    {
      "cell_type": "markdown",
      "metadata": {
        "id": "rlnTYgY1j6I2"
      },
      "source": [
        "<b>Diseña un algoritmo para resolver el problema por fuerza bruta</b>"
      ]
    },
    {
      "cell_type": "markdown",
      "metadata": {
        "id": "70rDgxYXkC8r"
      },
      "source": [
        "Respuesta"
      ]
    },
    {
      "cell_type": "code",
      "metadata": {
        "colab": {
          "base_uri": "https://localhost:8080/"
        },
        "id": "e3N7UC8xXUqu",
        "outputId": "fa41ec6c-88d3-4952-af4d-295c95fa2fc8"
      },
      "source": [
        "import random\r\n",
        "import numpy as np\r\n",
        "\r\n",
        "listaMaxMins = np.zeros(0)\r\n",
        "numEl = -68\r\n",
        "\r\n",
        "def randomCalc(numEl):\r\n",
        "    ops = ['+', '-', '*', '/']\r\n",
        "    nums = [1,2,3,4,5,6,7,8,9]\r\n",
        "    numsMD = random.sample(list(nums), 5)\r\n",
        "    opD = random.sample(list(ops), 4)\r\n",
        "    # print(type(str(numsMD[0])))\r\n",
        "    # print(str(numsMD[0]))\r\n",
        "    #print('{} {} {} {} {} {} {} {} {} \\n'.format(numsMD[0], opD[0], numsMD[1], opD[1], numsMD[2], opD[2], numsMD[3], opD[3], numsMD[4]))\r\n",
        "    #answer = ops.get((op),(num1,num2,num3,num4,num5))\r\n",
        "    mathsD = eval(str(numsMD[0]) + str(opD[0]) + str(numsMD[1]) + str(opD[1]) + str(numsMD[2])+ str(opD[2]) + str(numsMD[3]) + str(opD[3]) + str(numsMD[4])) \r\n",
        "    #print(mathsD)\r\n",
        "    return mathsD, numsMD, opD\r\n",
        "\r\n",
        "\r\n",
        "\r\n",
        "while True:\r\n",
        "  [maths, numsM, op]=randomCalc(-68)\r\n",
        "  if maths in range(-100,100):\r\n",
        "    if maths == numEl:\r\n",
        "      print('{} {} {} {} {} {} {} {} {} \\n'.format(numsM[0], op[0], numsM[1], op[1], numsM[2], op[2], numsM[3], op[3], numsM[4]),' = ', maths)\r\n",
        "      listaMaxMins = np.append(listaMaxMins, maths)\r\n",
        "      print('MIN: ', min(listaMaxMins), 'MAX: ', max(listaMaxMins)) \r\n",
        "      break\r\n",
        "    listaMaxMins = np.append(listaMaxMins, maths)\r\n",
        "    #print('MIN: ', min(listaMaxMins), 'MAX: ', max(listaMaxMins)) \r\n",
        "  else:\r\n",
        "    randomCalc(-68)  \r\n",
        "    "
      ],
      "execution_count": 10,
      "outputs": [
        {
          "output_type": "stream",
          "text": [
            "1 - 9 * 8 + 6 / 2 \n",
            "  =  -68.0\n",
            "MIN:  -69.0 MAX:  77.0\n"
          ],
          "name": "stdout"
        }
      ]
    },
    {
      "cell_type": "markdown",
      "metadata": {
        "id": "tgrnsC2nkFa8"
      },
      "source": [
        "<b>Calcula la complejidad del algoritmo por fuerza bruta</b>"
      ]
    },
    {
      "cell_type": "markdown",
      "metadata": {
        "id": "9eUd3xwckP68"
      },
      "source": [
        "Respuesta"
      ]
    },
    {
      "cell_type": "markdown",
      "metadata": {
        "id": "QWxUhpYviX9I"
      },
      "source": [
        "La complejidad del algoritmo es n!"
      ]
    },
    {
      "cell_type": "markdown",
      "metadata": {
        "id": "txbrmLmskReM"
      },
      "source": [
        "<b>(*)Diseña un algoritmo que mejore la complejidad del algortimo por fuerza bruta. Argumenta porque crees que mejora el algoritmo por fuerza bruta</b>"
      ]
    },
    {
      "cell_type": "markdown",
      "metadata": {
        "id": "hLrVwt5QkZPD"
      },
      "source": [
        "Respuesta"
      ]
    },
    {
      "cell_type": "markdown",
      "metadata": {
        "id": "2g7XoDA-o6S3"
      },
      "source": [
        "Una solución alternativa sería gastar el algoritmo de ramificación y poda, y aquí su pseudocodigo, Mejora el algoritmo de fuerza bruta porque, obtendrá más resultados sin tener una complejidad muy alta."
      ]
    },
    {
      "cell_type": "markdown",
      "metadata": {
        "id": "Q3EXURvpo3rd"
      },
      "source": [
        "![image.png](data:image/png;base64,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)"
      ]
    },
    {
      "cell_type": "markdown",
      "metadata": {
        "id": "eGDB4K6uk1iN"
      },
      "source": [
        "<b>(*)Calcula la complejidad del algoritmo</b> "
      ]
    },
    {
      "cell_type": "markdown",
      "metadata": {
        "id": "NhpTh_BPk1ms"
      },
      "source": [
        "Respuesta"
      ]
    },
    {
      "cell_type": "markdown",
      "metadata": {
        "id": "fN4SDSgypQks"
      },
      "source": [
        "Esta complejidad aumenta dependiendo del numero de nodos recorridos (O(n!))"
      ]
    },
    {
      "cell_type": "markdown",
      "metadata": {
        "id": "3M6QjTsSkmYe"
      },
      "source": [
        "<b>Según el problema (y tenga sentido), diseña un juego de datos de entrada aleatorios</b>"
      ]
    },
    {
      "cell_type": "markdown",
      "metadata": {
        "id": "Jc3_OlyNkvjZ"
      },
      "source": [
        "Respuesta"
      ]
    },
    {
      "cell_type": "code",
      "metadata": {
        "id": "sJ-N2etjkyWc",
        "colab": {
          "base_uri": "https://localhost:8080/"
        },
        "outputId": "c6e51abd-9e2f-4a87-c36d-f555b5d5be0e"
      },
      "source": [
        "import random\r\n",
        "numEl2 = []\r\n",
        "for i in range(4):\r\n",
        "  x = random.randint(-69, 77)\r\n",
        "  numEl2.append(x)\r\n",
        "  print(numEl2[i], 'valor de i: ',i)"
      ],
      "execution_count": 19,
      "outputs": [
        {
          "output_type": "stream",
          "text": [
            "6 valor de i:  0\n",
            "41 valor de i:  1\n",
            "-21 valor de i:  2\n",
            "-27 valor de i:  3\n"
          ],
          "name": "stdout"
        }
      ]
    },
    {
      "cell_type": "markdown",
      "metadata": {
        "id": "zy5ZROmjlGo1"
      },
      "source": [
        "<b>Aplica el algoritmo al juego de datos generado</b>"
      ]
    },
    {
      "cell_type": "markdown",
      "metadata": {
        "id": "_Cmj-PVylMsa"
      },
      "source": [
        "Respuesta"
      ]
    },
    {
      "cell_type": "code",
      "metadata": {
        "id": "Jkx8GeiYlUz1",
        "colab": {
          "base_uri": "https://localhost:8080/"
        },
        "outputId": "3ce42d2f-0472-432d-e0ce-ea07e65591fd"
      },
      "source": [
        "for i in range(4):\r\n",
        "  print(numEl2[i])\r\n",
        "  randomCalc(numEl2[i])\r\n",
        "  while True:\r\n",
        "    [maths, numsM, op]=randomCalc(numEl2[i])\r\n",
        "    if maths in range(-100,100):\r\n",
        "      if maths == numEl2[i]:\r\n",
        "        print('{} {} {} {} {} {} {} {} {} \\n'.format(numsM[0], op[0], numsM[1], op[1], numsM[2], op[2], numsM[3], op[3], numsM[4]),' = ', maths)\r\n",
        "        listaMaxMins = np.append(listaMaxMins, maths)\r\n",
        "        print('MIN: ', min(listaMaxMins), 'MAX: ', max(listaMaxMins)) \r\n",
        "        break\r\n",
        "      listaMaxMins = np.append(listaMaxMins, maths)\r\n",
        "      #print('MIN: ', min(listaMaxMins), 'MAX: ', max(listaMaxMins)) \r\n",
        "    else:\r\n",
        "      randomCalc(numEl2[i]) "
      ],
      "execution_count": 23,
      "outputs": [
        {
          "output_type": "stream",
          "text": [
            "6\n",
            "2 - 8 / 4 + 6 * 1 \n",
            "  =  6.0\n",
            "MIN:  -69.0 MAX:  77.0\n",
            "41\n",
            "4 / 2 + 9 * 5 - 6 \n",
            "  =  41.0\n",
            "MIN:  -69.0 MAX:  77.0\n",
            "-21\n",
            "2 - 4 * 8 + 9 / 1 \n",
            "  =  -21.0\n",
            "MIN:  -69.0 MAX:  77.0\n",
            "-27\n",
            "4 + 5 - 8 * 9 / 2 \n",
            "  =  -27.0\n",
            "MIN:  -69.0 MAX:  77.0\n"
          ],
          "name": "stdout"
        }
      ]
    },
    {
      "cell_type": "markdown",
      "metadata": {
        "id": "eTFWUJQrtGcv"
      },
      "source": [
        "<b>Enumera las referencias que has utilizado(si ha sido necesario) para llevar a cabo el trabajo</b>"
      ]
    },
    {
      "cell_type": "markdown",
      "metadata": {
        "id": "YKQ_mRBttWsP"
      },
      "source": [
        "Respuesta"
      ]
    },
    {
      "cell_type": "markdown",
      "metadata": {
        "id": "1to1XxxQqYJf"
      },
      "source": [
        "He buscado en el manual de clase, aparte de las propias videoconnferencias, y con ayuda de busquedas en internet contando con algunos tutoriales de información de algoritmos para reforzar lo aprendido en clase."
      ]
    },
    {
      "cell_type": "markdown",
      "metadata": {
        "id": "kAkDPUyRtYyH"
      },
      "source": [
        "<b>Describe brevemente las lineas de como crees que es posible avanzar en el estudio del problema. Ten en cuenta incluso posibles variaciones del problema y/o variaciones al alza del tamaño</b>"
      ]
    },
    {
      "cell_type": "markdown",
      "metadata": {
        "id": "IE0uZmo-tZu-"
      },
      "source": [
        "Respuesta"
      ]
    },
    {
      "cell_type": "markdown",
      "metadata": {
        "id": "Xq7SDeJ5j_4t"
      },
      "source": [
        "Desde mi punto de vista una forma de avanzar y mejorar este tipo de problemas seria aplicando ramificación y poda, resultaría ser más rápido de calcular soluciones."
      ]
    }
  ]
}