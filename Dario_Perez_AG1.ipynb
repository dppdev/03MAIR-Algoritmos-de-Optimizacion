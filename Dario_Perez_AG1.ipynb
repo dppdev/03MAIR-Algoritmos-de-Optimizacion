{
  "nbformat": 4,
  "nbformat_minor": 0,
  "metadata": {
    "colab": {
      "name": "Dario Perez - AG1.ipynb",
      "provenance": [],
      "collapsed_sections": [],
      "authorship_tag": "ABX9TyNJpVru/avqwPpFxZhXY0me",
      "include_colab_link": true
    },
    "kernelspec": {
      "name": "python3",
      "display_name": "Python 3"
    }
  },
  "cells": [
    {
      "cell_type": "markdown",
      "metadata": {
        "id": "view-in-github",
        "colab_type": "text"
      },
      "source": [
        "<a href=\"https://colab.research.google.com/github/dppdev/03MAIR-Algoritmos-de-Optimizacion/blob/main/Dario_Perez_AG1.ipynb\" target=\"_parent\"><img src=\"https://colab.research.google.com/assets/colab-badge.svg\" alt=\"Open In Colab\"/></a>"
      ]
    },
    {
      "cell_type": "markdown",
      "metadata": {
        "id": "YtOS2WfGr6fn"
      },
      "source": [
        "#Algoritmos - Actividad Guiada 1\r\n",
        "\r\n",
        "Nombre: Darío Pérez <br>\r\n",
        "URL: https://colab.research.google.com/drive/17ZLzk-29-_P-s1BBMVsGokkk1cV_3l0L?usp=sharing\r\n",
        "\r\n",
        "GitHub: https://github.com/dppdev/03MAIR-Algoritmos-de-Optimizacion"
      ]
    },
    {
      "cell_type": "markdown",
      "metadata": {
        "id": "pPoBXu6jvVxX"
      },
      "source": [
        "##Torres de Hanoi conn Divide y vencerás"
      ]
    },
    {
      "cell_type": "code",
      "metadata": {
        "colab": {
          "base_uri": "https://localhost:8080/"
        },
        "id": "5oGYUutDrwPy",
        "outputId": "5f6d057d-ceb2-4894-f385-262a65e011fe"
      },
      "source": [
        "def Torres_Hanoi(N, desde , hasta):\r\n",
        "  if N == 1:\r\n",
        "    print(\"Lleva la ficha \",desde, ' hasta', hasta)\r\n",
        "  else: \r\n",
        "    Torres_Hanoi(N-1, desde, 6-desde-hasta)\r\n",
        "    print(\"Lleva la ficha \",desde, ' hasta', hasta)\r\n",
        "    Torres_Hanoi(N-1,6-desde-hasta, hasta)\r\n",
        "\r\n",
        "Torres_Hanoi(3, 1, 3)"
      ],
      "execution_count": null,
      "outputs": [
        {
          "output_type": "stream",
          "text": [
            "Lleva la ficha  1  hasta 3\n",
            "Lleva la ficha  1  hasta 2\n",
            "Lleva la ficha  3  hasta 2\n",
            "Lleva la ficha  1  hasta 3\n",
            "Lleva la ficha  2  hasta 1\n",
            "Lleva la ficha  2  hasta 3\n",
            "Lleva la ficha  1  hasta 3\n"
          ],
          "name": "stdout"
        }
      ]
    },
    {
      "cell_type": "markdown",
      "metadata": {
        "id": "6x_vR2VD6KrI"
      },
      "source": [
        "##Devolución de cambio por técnica voraz"
      ]
    },
    {
      "cell_type": "code",
      "metadata": {
        "colab": {
          "base_uri": "https://localhost:8080/"
        },
        "id": "31UEeBhh0a1c",
        "outputId": "c710f313-f8f7-4cde-9776-1cb16e697907"
      },
      "source": [
        "def cambio_monedas(N, SM):\r\n",
        "  SOLUCION = [0]*len(SM)\r\n",
        "  ValorAcumulado = 0\r\n",
        "  for i,valor in enumerate(SM):\r\n",
        "    monedas = (N-ValorAcumulado)//valor\r\n",
        "    SOLUCION[i] = monedas\r\n",
        "    ValorAcumulado = ValorAcumulado + monedas*valor\r\n",
        "\r\n",
        "    if ValorAcumulado == N:\r\n",
        "      return SOLUCION\r\n",
        "\r\n",
        "cambio_monedas(37, [25,10,5,1])"
      ],
      "execution_count": null,
      "outputs": [
        {
          "output_type": "execute_result",
          "data": {
            "text/plain": [
              "[1, 1, 0, 2]"
            ]
          },
          "metadata": {
            "tags": []
          },
          "execution_count": 7
        }
      ]
    },
    {
      "cell_type": "markdown",
      "metadata": {
        "id": "9giwcllf_GBs"
      },
      "source": [
        "## N-Reinas por técnica de vuelta atrás"
      ]
    },
    {
      "cell_type": "code",
      "metadata": {
        "colab": {
          "base_uri": "https://localhost:8080/"
        },
        "id": "TVEXHk2s9e0R",
        "outputId": "21ff6c50-55c0-486b-a23c-5bb61ad2bf7e"
      },
      "source": [
        "def escribe(S):\r\n",
        "\r\n",
        "  n = len(S)\r\n",
        "\r\n",
        "  for x in range(n):\r\n",
        "\r\n",
        "    print(\"\")\r\n",
        "\r\n",
        "    for i in range(n):\r\n",
        "\r\n",
        "      if S[i] == x+1:\r\n",
        "\r\n",
        "        print(\" X \" , end=\"\")\r\n",
        "\r\n",
        "      else:\r\n",
        "\r\n",
        "        print(\" - \", end=\"\")\r\n",
        "\r\n",
        "def es_prometedora(SOLUCION, etapa):\r\n",
        "  for i in range(etapa+1):\r\n",
        "#print(\"El valor \" + str(SOLUCION[i]) + \" está \" +  str(SOLUCION.count(SOLUCION[i])) + \" veces\")\r\n",
        "    if SOLUCION.count(SOLUCION[i]) > 1:     \r\n",
        "      return False\r\n",
        "#Verifica las diagonales\r\n",
        "    for j in range(i+1, etapa +1):  \r\n",
        "    #print(\"Comprobando diagonal de \" + str(i) + \" y \" + str(j))\r\n",
        "      if abs(i-j) == abs(SOLUCION[i]-SOLUCION[j]) : return False\r\n",
        "  return True\r\n",
        "\r\n",
        "def reinas(N,solucion=[], etapa = 0):\r\n",
        "  if len(solucion) == 0:\r\n",
        "    solucion=[0 for i in range(N)]\r\n",
        "\r\n",
        "  for i in range(1, N+1):\r\n",
        "    solucion[etapa] = i\r\n",
        "    if es_prometedora(solucion,etapa):\r\n",
        "      if etapa == N-1:\r\n",
        "        print(solucion)\r\n",
        "        escribe(solucion)\r\n",
        "        print()\r\n",
        "      else:\r\n",
        "        reinas(N, solucion, etapa+1)\r\n",
        "    else:\r\n",
        "      None\r\n",
        "    solucion[etapa] = 0\r\n",
        "\r\n",
        "reinas(4)"
      ],
      "execution_count": 5,
      "outputs": [
        {
          "output_type": "stream",
          "text": [
            "[2, 4, 1, 3]\n",
            "\n",
            " -  -  X  - \n",
            " X  -  -  - \n",
            " -  -  -  X \n",
            " -  X  -  - \n",
            "[3, 1, 4, 2]\n",
            "\n",
            " -  X  -  - \n",
            " -  -  -  X \n",
            " X  -  -  - \n",
            " -  -  X  - \n"
          ],
          "name": "stdout"
        }
      ]
    },
    {
      "cell_type": "code",
      "metadata": {
        "id": "5n3lFiqXELHf"
      },
      "source": [
        ""
      ],
      "execution_count": null,
      "outputs": []
    }
  ]
}